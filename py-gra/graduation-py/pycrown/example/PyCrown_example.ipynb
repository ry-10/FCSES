{
 "cells": [
  {
   "cell_type": "markdown",
   "metadata": {},
   "source": [
    "# Tree Segmentation Example\n",
    "This is a simple example of what the PyCrown package can do: from pre-calculated rasters (CHM, DSM and DTM) and a height-normalized 3D LiDAR point cloud, individual trees can be segmented.\n",
    "Outputs are shapefiles of tree top locations, crown shapes as well as a .LAS-file containing classified trees."
   ]
  },
  {
   "cell_type": "markdown",
   "metadata": {},
   "source": [
    "## Start with importing the modules"
   ]
  },
  {
   "cell_type": "code",
   "execution_count": 1,
   "metadata": {},
   "outputs": [],
   "source": [
    "import sys\n",
    "from datetime import datetime\n",
    "from pycrown import PyCrown"
   ]
  },
  {
   "cell_type": "markdown",
   "metadata": {},
   "source": [
    "## Set input files\n",
    "Specify the file locations for the CHM, DSM, DTM and the LiDAR point cloud.\n",
    "The latter is only needed if the point cloud should be classified into individual trees."
   ]
  },
  {
   "cell_type": "code",
   "execution_count": 2,
   "metadata": {},
   "outputs": [],
   "source": [
    "F_CHM = 'data/CHM.tif'\n",
    "F_DTM = 'data/DTM.tif'\n",
    "F_DSM = 'data/DSM.tif'\n",
    "F_LAS = 'data/POINTS.las'"
   ]
  },
  {
   "cell_type": "markdown",
   "metadata": {},
   "source": [
    "## Initialize an instance of PyCrown"
   ]
  },
  {
   "cell_type": "code",
   "execution_count": 3,
   "metadata": {},
   "outputs": [],
   "source": [
    "PC = PyCrown(F_CHM, F_DTM, F_DSM, F_LAS, outpath='result')"
   ]
  },
  {
   "cell_type": "markdown",
   "metadata": {},
   "source": [
    "## Clip all input data to new bounding box."
   ]
  },
  {
   "cell_type": "code",
   "execution_count": 4,
   "metadata": {},
   "outputs": [],
   "source": [
    "PC.clip_data_to_bbox((1802150, 1802408, 5467305, 5467480))"
   ]
  },
  {
   "cell_type": "markdown",
   "metadata": {},
   "source": [
    "## Smooth CHM\n",
    "A 5x5m block median filter is used (set circular=True to enable a disc-shaped window)."
   ]
  },
  {
   "cell_type": "code",
   "execution_count": 5,
   "metadata": {},
   "outputs": [],
   "source": [
    "PC.filter_chm(5, ws_in_pixels=True, circular=False)"
   ]
  },
  {
   "cell_type": "markdown",
   "metadata": {},
   "source": [
    "## Tree Detection with local maximum filter"
   ]
  },
  {
   "cell_type": "code",
   "execution_count": 6,
   "metadata": {},
   "outputs": [],
   "source": [
    "PC.tree_detection(PC.chm, ws=5, hmin=16.)"
   ]
  },
  {
   "cell_type": "markdown",
   "metadata": {},
   "source": [
    "## Clip trees to bounding box \n",
    "(no trees on image edge)\n",
    "original extent: 1802140, 1802418, 5467295, 5467490    "
   ]
  },
  {
   "cell_type": "code",
   "execution_count": 7,
   "metadata": {},
   "outputs": [],
   "source": [
    "PC.clip_trees_to_bbox(bbox=(1802160, 1802400, 5467315, 5467470))"
   ]
  },
  {
   "cell_type": "markdown",
   "metadata": {},
   "source": [
    "## Crown Delineation"
   ]
  },
  {
   "cell_type": "code",
   "execution_count": 8,
   "metadata": {},
   "outputs": [
    {
     "name": "stdout",
     "output_type": "stream",
     "text": [
      "Tree crowns delineation: 0.007s\n"
     ]
    }
   ],
   "source": [
    "PC.crown_delineation(algorithm='dalponteCIRC_numba', th_tree=15.,\n",
    "                     th_seed=0.7, th_crown=0.55, max_crown=10.)"
   ]
  },
  {
   "cell_type": "markdown",
   "metadata": {},
   "source": [
    "## (Optional) Correct tree tops on steep terrain"
   ]
  },
  {
   "cell_type": "code",
   "execution_count": 9,
   "metadata": {},
   "outputs": [
    {
     "name": "stdout",
     "output_type": "stream",
     "text": [
      "Number of trees: 128\n",
      "Tree tops corrected: 9\n",
      "Tree tops corrected: 7.03125%\n",
      "DSM correction: 5\n",
      "COM correction: 4\n"
     ]
    }
   ],
   "source": [
    "PC.correct_tree_tops()"
   ]
  },
  {
   "cell_type": "markdown",
   "metadata": {},
   "source": [
    "## Calculate tree height and elevation"
   ]
  },
  {
   "cell_type": "code",
   "execution_count": 10,
   "metadata": {},
   "outputs": [],
   "source": [
    "PC.get_tree_height_elevation(loc='top')\n",
    "PC.get_tree_height_elevation(loc='top_cor')"
   ]
  },
  {
   "cell_type": "markdown",
   "metadata": {},
   "source": [
    "## Screen small trees"
   ]
  },
  {
   "cell_type": "code",
   "execution_count": 11,
   "metadata": {},
   "outputs": [],
   "source": [
    "PC.screen_small_trees(hmin=20., loc='top')"
   ]
  },
  {
   "cell_type": "markdown",
   "metadata": {},
   "source": [
    "## Convert raster crowns to polygons"
   ]
  },
  {
   "cell_type": "code",
   "execution_count": 12,
   "metadata": {},
   "outputs": [
    {
     "name": "stdout",
     "output_type": "stream",
     "text": [
      "Converting LAS point cloud to shapely points\n",
      "Converting raster crowns to shapely polygons\n",
      "Attach LiDAR points to corresponding crowns\n",
      "Create convex hull around first return points\n",
      "Classifying point cloud\n"
     ]
    }
   ],
   "source": [
    "PC.crowns_to_polys_raster()\n",
    "PC.crowns_to_polys_smooth(store_las=True)"
   ]
  },
  {
   "cell_type": "markdown",
   "metadata": {},
   "source": [
    "## Check that all geometries are valid"
   ]
  },
  {
   "cell_type": "code",
   "execution_count": 13,
   "metadata": {},
   "outputs": [],
   "source": [
    "PC.quality_control()"
   ]
  },
  {
   "cell_type": "markdown",
   "metadata": {},
   "source": [
    "## Print out number of trees"
   ]
  },
  {
   "cell_type": "code",
   "execution_count": 14,
   "metadata": {},
   "outputs": [
    {
     "name": "stdout",
     "output_type": "stream",
     "text": [
      "Number of trees detected: 115\n"
     ]
    }
   ],
   "source": [
    "print(f\"Number of trees detected: {len(PC.trees)}\")"
   ]
  },
  {
   "cell_type": "markdown",
   "metadata": {},
   "source": [
    "## Export results"
   ]
  },
  {
   "cell_type": "code",
   "execution_count": 15,
   "metadata": {},
   "outputs": [],
   "source": [
    "PC.export_raster(PC.chm, PC.outpath / 'chm.tif', 'CHM')\n",
    "PC.export_tree_locations(loc='top')\n",
    "PC.export_tree_locations(loc='top_cor')\n",
    "PC.export_tree_crowns(crowntype='crown_poly_raster')\n",
    "PC.export_tree_crowns(crowntype='crown_poly_smooth')"
   ]
  },
  {
   "cell_type": "code",
   "execution_count": null,
   "metadata": {},
   "outputs": [],
   "source": []
  }
 ],
 "metadata": {
  "kernelspec": {
   "display_name": "Python 3",
   "language": "python",
   "name": "python3"
  },
  "language_info": {
   "codemirror_mode": {
    "name": "ipython",
    "version": 3
   },
   "file_extension": ".py",
   "mimetype": "text/x-python",
   "name": "python",
   "nbconvert_exporter": "python",
   "pygments_lexer": "ipython3",
   "version": "3.6.6"
  }
 },
 "nbformat": 4,
 "nbformat_minor": 2
}